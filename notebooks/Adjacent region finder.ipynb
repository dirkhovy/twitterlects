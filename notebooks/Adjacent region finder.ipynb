{
 "cells": [
  {
   "cell_type": "markdown",
   "metadata": {},
   "source": [
    "Clustering with constraints, see the [sklearn documentation](http://scikit-learn.org/stable/modules/clustering.html#hierarchical-clustering)\n",
    "\n"
   ]
  },
  {
   "cell_type": "code",
   "execution_count": 9,
   "metadata": {
    "collapsed": false
   },
   "outputs": [],
   "source": [
    "import fiona\n",
    "from shapely.geometry import shape, Point\n",
    "import numpy as np\n",
    "import pandas as pd\n",
    "\n",
    "shapefile = \"/Users/anders/code/socling_trustpilot/data/eurostat/NUTS_2010_03M_SH/Data/NUTS_RG_03M_2010.shp\"\n"
   ]
  },
  {
   "cell_type": "code",
   "execution_count": 45,
   "metadata": {
    "collapsed": false
   },
   "outputs": [],
   "source": [
    "fiona_shapes = fiona.open(shapefile) \n",
    "shapes = []\n",
    "nuts_ids = []\n",
    "for item in fiona_shapes: \n",
    "    nuts_id = item['properties']['NUTS_ID']\n",
    "    if item['properties']['STAT_LEVL_'] == 3 and nuts_id.startswith(\"DE\"):\n",
    "        shapes.append(shape(item['geometry']))\n",
    "        nuts_ids.append(nuts_id)\n",
    "        "
   ]
  },
  {
   "cell_type": "code",
   "execution_count": null,
   "metadata": {
    "collapsed": false
   },
   "outputs": [],
   "source": [
    "adjacency = pd.DataFrame(False, index=nuts_ids, columns=nuts_ids)\n",
    "for i in range(len(shapes)):\n",
    "    nuts_shape = shapes[i].buffer(0.1)\n",
    "    for j in range(len(shapes)):\n",
    "        if i == j:\n",
    "            continue\n",
    "        adjacency.iloc[i, j] = nuts_shape.intersects(shapes[j])"
   ]
  },
  {
   "cell_type": "code",
   "execution_count": null,
   "metadata": {
    "collapsed": false
   },
   "outputs": [],
   "source": [
    "adjacency"
   ]
  },
  {
   "cell_type": "code",
   "execution_count": 38,
   "metadata": {
    "collapsed": false
   },
   "outputs": [
    {
     "data": {
      "text/plain": [
       "False"
      ]
     },
     "execution_count": 38,
     "metadata": {},
     "output_type": "execute_result"
    }
   ],
   "source": [
    "shapes[4].touches(shapes[5])"
   ]
  },
  {
   "cell_type": "code",
   "execution_count": 31,
   "metadata": {
    "collapsed": false
   },
   "outputs": [
    {
     "data": {
      "text/plain": [
       "True"
      ]
     },
     "execution_count": 31,
     "metadata": {},
     "output_type": "execute_result"
    }
   ],
   "source": [
    "shapes[7].touches(shapes[8])"
   ]
  }
 ],
 "metadata": {
  "kernelspec": {
   "display_name": "Python 3",
   "language": "python",
   "name": "python3"
  },
  "language_info": {
   "codemirror_mode": {
    "name": "ipython",
    "version": 3
   },
   "file_extension": ".py",
   "mimetype": "text/x-python",
   "name": "python",
   "nbconvert_exporter": "python",
   "pygments_lexer": "ipython3",
   "version": "3.4.3"
  }
 },
 "nbformat": 4,
 "nbformat_minor": 0
}
